{
 "cells": [
  {
   "cell_type": "markdown",
   "id": "fcd815fd-1589-48c5-90fd-d85a3b1de9e6",
   "metadata": {},
   "source": [
    "<h1 style=\"text-align:center;\">🛠️ Gamer Session Data Generator</h1>\n",
    "<h3 style=\"text-align:center;\">by Zuhayr Chowdhury</h3>\n",
    "<p style=\"text-align:center;\">\n",
    "This script simulates 60 days of gameplay sessions across different games, generating realistic data \n",
    "including time played, kills, deaths, win rates, and mood. The output is used to fuel deeper analysis \n",
    "in later stages of the Gamer Performance Analyzer project.\n",
    "</p>\n",
    "<hr>\n"
   ]
  },
  {
   "cell_type": "code",
   "execution_count": 6,
   "id": "3d6edebd-b8e1-40ba-8ed7-cbf4f8abd0be",
   "metadata": {},
   "outputs": [
    {
     "name": "stdout",
     "output_type": "stream",
     "text": [
      "         Date          Game  Session_Hours  Matches_Played  Wins  Kills  \\\n",
      "0  2025-02-08  Apex Legends            0.7               1     1      5   \n",
      "1  2025-02-09     Overwatch            2.0               4     1     30   \n",
      "2  2025-02-10      Valorant            2.9               4     1     12   \n",
      "3  2025-02-11      Valorant            2.4               2     0     22   \n",
      "4  2025-02-12     Overwatch            2.2               3     0      6   \n",
      "\n",
      "   Deaths  KD_Ratio        Mood  \n",
      "0      23      0.22       Tired  \n",
      "1      14      2.14     Focused  \n",
      "2       4      3.00       Tired  \n",
      "3       9      2.44  Frustrated  \n",
      "4      16      0.38     Focused  \n"
     ]
    }
   ],
   "source": [
    "import pandas as pd\n",
    "import random\n",
    "from datetime import datetime, timedelta\n",
    "\n",
    "# --- Configuration ---\n",
    "num_days = 60  # Number of days to simulate\n",
    "start_date = datetime.today() - timedelta(days=num_days)\n",
    "games = ['Valorant', 'Apex Legends', 'Overwatch']\n",
    "moods = ['Happy', 'Tired', 'Frustrated', 'Focused', 'Casual']\n",
    "\n",
    "# --- Function to simulate a single game session ---\n",
    "def simulate_session(date):\n",
    "    game = random.choice(games)\n",
    "    \n",
    "    # Time spent gaming that day\n",
    "    session_hours = round(random.uniform(0.5, 5), 1)\n",
    "    \n",
    "    # Number of matches based on session length\n",
    "    matches_played = random.randint(1, int(session_hours * 2))\n",
    "    \n",
    "    # Win count within matches\n",
    "    wins = random.randint(0, matches_played)\n",
    "    \n",
    "    # Performance stats\n",
    "    kills = random.randint(5, 30)\n",
    "    deaths = random.randint(3, 25)\n",
    "    kd_ratio = round(kills / deaths if deaths != 0 else kills, 2)\n",
    "    \n",
    "    # Random mood\n",
    "    mood = random.choice(moods)\n",
    "\n",
    "    return {\n",
    "        'Date': date.strftime('%Y-%m-%d'),\n",
    "        'Game': game,\n",
    "        'Session_Hours': session_hours,\n",
    "        'Matches_Played': matches_played,\n",
    "        'Wins': wins,\n",
    "        'Kills': kills,\n",
    "        'Deaths': deaths,\n",
    "        'KD_Ratio': kd_ratio,\n",
    "        'Mood': mood\n",
    "    }\n",
    "\n",
    "# --- Generate the dataset ---\n",
    "data = [simulate_session(start_date + timedelta(days=i)) for i in range(num_days)]\n",
    "df = pd.DataFrame(data)\n",
    "\n",
    "# --- Save to CSV ---\n",
    "df.to_csv(\"gamer_habits_data.csv\", index=False)\n",
    "\n",
    "# --- Preview the first few rows ---\n",
    "print(df.head())\n"
   ]
  },
  {
   "cell_type": "code",
   "execution_count": null,
   "id": "0c8220c4-823f-4e27-9aa7-bdf33452a8f0",
   "metadata": {},
   "outputs": [],
   "source": []
  }
 ],
 "metadata": {
  "kernelspec": {
   "display_name": "Python 3 (ipykernel)",
   "language": "python",
   "name": "python3"
  },
  "language_info": {
   "codemirror_mode": {
    "name": "ipython",
    "version": 3
   },
   "file_extension": ".py",
   "mimetype": "text/x-python",
   "name": "python",
   "nbconvert_exporter": "python",
   "pygments_lexer": "ipython3",
   "version": "3.12.4"
  }
 },
 "nbformat": 4,
 "nbformat_minor": 5
}
